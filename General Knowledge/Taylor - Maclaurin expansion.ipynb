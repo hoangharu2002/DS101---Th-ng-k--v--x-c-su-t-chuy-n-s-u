{
 "cells": [
  {
   "cell_type": "markdown",
   "metadata": {},
   "source": [
    "# Khai triển Taylor"
   ]
  },
  {
   "cell_type": "markdown",
   "metadata": {},
   "source": [
    "## Công thức lý khai triển Taylor"
   ]
  },
  {
   "cell_type": "markdown",
   "metadata": {},
   "source": [
    "$$\n",
    "f(x) = f(a) + f'(a)(x-a) + \\frac{f''(a)}{2!}(x-a)^2 + \\frac{f'''(a)}{3!}(x-a)^3 + \\dots + \\frac{f^{(n)}(a)}{n!}(x-a)^n + R_n\n",
    "$$\n"
   ]
  },
  {
   "cell_type": "markdown",
   "metadata": {},
   "source": [
    "Trong đó:\n",
    "- f(x): là hàm khai triển Taylor\n",
    "- a: là điểm được chọn để khai triển\n",
    "- f^{(n)}(a): đạo hàm bậc n tại a\n",
    "- R_n: phần dư bậc n, thể hiện sai số"
   ]
  },
  {
   "cell_type": "markdown",
   "metadata": {},
   "source": [
    "## Cài đặt khai triển taylor"
   ]
  },
  {
   "cell_type": "markdown",
   "metadata": {},
   "source": [
    "Cách 1: Cài đặt bằng thư viện Sympy\n",
    "- Ưu điểm:\n",
    "    + Nhanh gọn, dễ cài đặt\n",
    "    + Áp dụng chung cho nhiều hàm\n",
    "- Nhược điểm:\n",
    "    + Chỉ có thể áp dụng cho những hàm được định nghĩa sẵn trong Sympy\n",
    "    + Các hàm tính toán phụ thuộc vào thư viện Sympy"
   ]
  },
  {
   "cell_type": "code",
   "execution_count": null,
   "metadata": {},
   "outputs": [],
   "source": [
    "import sympy as sp\n",
    "\n",
    "def taylor_series(func, var, a, n):\n",
    "    for i in range(n + 1):\n",
    "        derivative = func.diff(var, i)\n",
    "        derivative_at_a = derivative.subs(var, a)\n",
    "        term = (derivative_at_a / sp.)"
   ]
  },
  {
   "cell_type": "code",
   "execution_count": 3,
   "metadata": {},
   "outputs": [
    {
     "name": "stdout",
     "output_type": "stream",
     "text": [
      "Khai triển Taylor của sin(x):\n",
      "x**5/120 - x**3/6 + x\n"
     ]
    }
   ],
   "source": [
    "import sympy as sp\n",
    "\n",
    "def taylor_series(func, var, a, n):\n",
    "    \"\"\"\n",
    "    Khai triển Taylor chung cho một hàm số tại điểm a.\n",
    "\n",
    "    Args:\n",
    "    - func: Hàm cần khai triển (hàm sympy).\n",
    "    - var: Biến của hàm (sympy.Symbol).\n",
    "    - a: Điểm khai triển (số thực).\n",
    "    - n: Số bậc của khai triển.\n",
    "\n",
    "    Returns:\n",
    "    - Khai triển Taylor dưới dạng biểu thức sympy.\n",
    "    \"\"\"\n",
    "    # Biểu thức ban đầu của khai triển Taylor\n",
    "    taylor_expansion = 0\n",
    "    \n",
    "    # Lặp qua từng bậc từ 0 đến n\n",
    "    for i in range(n + 1):\n",
    "        # Đạo hàm bậc i\n",
    "        derivative = func.diff(var, i)\n",
    "        # Tính giá trị của đạo hàm tại a\n",
    "        derivative_at_a = derivative.subs(var, a)\n",
    "        # Thêm hạng tử vào khai triển\n",
    "        term = (derivative_at_a / sp.factorial(i)) * (var - a)**i\n",
    "        taylor_expansion += term\n",
    "    \n",
    "    return taylor_expansion\n",
    "\n",
    "# Khai triển Taylor của sin(x) tại x = 0, bậc 5\n",
    "x = sp.Symbol('x')  # Biến x\n",
    "func = sp.sin(x)    # Hàm sin(x)\n",
    "a = 0               # Điểm khai triển\n",
    "n = 5               # Số bậc\n",
    "taylor = taylor_series(func, x, a, n)\n",
    "print(\"Khai triển Taylor của sin(x):\")\n",
    "print(taylor)\n"
   ]
  },
  {
   "cell_type": "code",
   "execution_count": 4,
   "metadata": {},
   "outputs": [
    {
     "data": {
      "text/plain": [
       "sympy.core.add.Add"
      ]
     },
     "execution_count": 4,
     "metadata": {},
     "output_type": "execute_result"
    }
   ],
   "source": [
    "type(taylor)"
   ]
  }
 ],
 "metadata": {
  "kernelspec": {
   "display_name": "Python 3",
   "language": "python",
   "name": "python3"
  },
  "language_info": {
   "codemirror_mode": {
    "name": "ipython",
    "version": 3
   },
   "file_extension": ".py",
   "mimetype": "text/x-python",
   "name": "python",
   "nbconvert_exporter": "python",
   "pygments_lexer": "ipython3",
   "version": "3.12.3"
  }
 },
 "nbformat": 4,
 "nbformat_minor": 2
}
