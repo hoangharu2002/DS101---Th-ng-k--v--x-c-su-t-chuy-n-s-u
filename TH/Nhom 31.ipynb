{
 "cells": [
  {
   "cell_type": "markdown",
   "metadata": {},
   "source": [
    "BÀI LÀM THỰC HÀNH NHÓM 31\n",
    "\n",
    "Thành viên:"
   ]
  },
  {
   "cell_type": "markdown",
   "metadata": {},
   "source": [
    "### Yêu cầu 1: Cho xích Markov có ma trận chuyển [[0.8  0.2] [0.1  0.9]]. Hãy viết chương trình python tìm phân phối dừng của Xích Markov. Hãy cho biết sau bao lâu thì xích Markov này đạt phân phối dừng."
   ]
  },
  {
   "cell_type": "markdown",
   "metadata": {},
   "source": [
    "#### Cách 1: sử dụng phương pháp đại số tuyến tính"
   ]
  },
  {
   "cell_type": "code",
   "execution_count": 1,
   "metadata": {},
   "outputs": [
    {
     "name": "stdout",
     "output_type": "stream",
     "text": [
      "Phân phối dừng: [0.33333333 0.66666667]\n",
      "Sau 36 bước, xích Markov hội tụ đến phân phối dừng.\n",
      "Phân phối tại bước cuối: [0.33333378 0.66666622]\n"
     ]
    }
   ],
   "source": [
    "import numpy as np\n",
    "\n",
    "# Ma trận chuyển\n",
    "P = np.array([[0.8, 0.2], \n",
    "              [0.1, 0.9]])\n",
    "\n",
    "# Tìm phân phối dừng bằng cách giải phương trình πP = π\n",
    "# Đồng thời π.sum() = 1\n",
    "def stationary_distribution(P):\n",
    "    n = P.shape[0]\n",
    "    A = np.append(P.T - np.eye(n), [np.ones(n)], axis=0)  # Ma trận mở rộng\n",
    "    b = np.append(np.zeros(n), [1])                      # Điều kiện tổng bằng 1\n",
    "    pi = np.linalg.lstsq(A, b, rcond=None)[0]            # Giải phương trình\n",
    "    return pi\n",
    "\n",
    "# Tính khoảng cách giữa các bước để xác định thời gian hội tụ\n",
    "def convergence_time(P, tolerance=1e-6):\n",
    "    n = P.shape[0]\n",
    "    pi = stationary_distribution(P)\n",
    "    dist = np.ones(n) / n  # Phân phối ban đầu (đồng đều)\n",
    "    iterations = 0\n",
    "    while np.linalg.norm(dist - pi, ord=1) > tolerance:\n",
    "        dist = dist @ P\n",
    "        iterations += 1\n",
    "    return iterations, dist\n",
    "\n",
    "# Phân phối dừng\n",
    "pi = stationary_distribution(P)\n",
    "print(\"Phân phối dừng:\", pi)\n",
    "\n",
    "# Thời gian hội tụ\n",
    "iterations, final_dist = convergence_time(P)\n",
    "print(f\"Sau {iterations} bước, xích Markov hội tụ đến phân phối dừng.\")\n",
    "print(\"Phân phối tại bước cuối:\", final_dist)\n"
   ]
  },
  {
   "attachments": {
    "image.png": {
     "image/png": "[encoded data removed]"
    }
   },
   "cell_type": "markdown",
   "metadata": {},
   "source": [
    "### Yêu cầu 2: ![image.png](attachment:image.png)"
   ]
  },
  {
   "cell_type": "code",
   "execution_count": 2,
   "metadata": {},
   "outputs": [
    {
     "name": "stdout",
     "output_type": "stream",
     "text": [
      "Phân phối dừng: [0.51020408 0.40816327 0.08163265]\n",
      "Xích Markov hội tụ sau 12 bước.\n"
     ]
    }
   ],
   "source": [
    "import numpy as np\n",
    "\n",
    "def find_stationary_distribution(P, max_iter=1000, tol=1e-6):\n",
    "    \"\"\"\n",
    "    Tìm phân phối dừng của xích Markov.\n",
    "    \n",
    "    Parameters:\n",
    "    - P: Ma trận xác suất chuyển.\n",
    "    - max_iter: Số lần lặp tối đa.\n",
    "    - tol: Ngưỡng sai số để kiểm tra hội tụ.\n",
    "\n",
    "    Returns:\n",
    "    - pi: Phân phối dừng.\n",
    "    - n_steps: Số bước cần để hội tụ.\n",
    "    \"\"\"\n",
    "    # Giải hệ phương trình πP = π với điều kiện sum(π) = 1\n",
    "    n = P.shape[0]\n",
    "    A = np.vstack([P.T - np.eye(n), np.ones(n)])\n",
    "    b = np.array([0] * n + [1])\n",
    "    pi = np.linalg.lstsq(A, b, rcond=None)[0]  # Phân phối dừng\n",
    "    \n",
    "    # Kiểm tra thời gian hội tụ\n",
    "    pi_current = np.zeros(n)  # Phân phối khởi tạo\n",
    "    pi_current[0] = 1  # Giả sử bắt đầu từ trạng thái 1\n",
    "    for n_steps in range(1, max_iter + 1):\n",
    "        pi_next = np.dot(pi_current, P)\n",
    "        if np.linalg.norm(pi_next - pi_current) < tol:\n",
    "            return pi, n_steps  # Hội tụ\n",
    "        pi_current = pi_next\n",
    "    return pi, None  # Không hội tụ trong max_iter bước\n",
    "\n",
    "# Ma trận xác suất chuyển\n",
    "P = np.array([\n",
    "    [0.64, 0.32, 0.04],\n",
    "    [0.40, 0.50, 0.10],\n",
    "    [0.25, 0.50, 0.25]\n",
    "])\n",
    "\n",
    "# Tính toán\n",
    "stationary_distribution, steps = find_stationary_distribution(P)\n",
    "\n",
    "print(\"Phân phối dừng:\", stationary_distribution)\n",
    "if steps:\n",
    "    print(f\"Xích Markov hội tụ sau {steps} bước.\")\n",
    "else:\n",
    "    print(\"Xích Markov không hội tụ trong số bước lặp tối đa.\")\n"
   ]
  }
 ],
 "metadata": {
  "kernelspec": {
   "display_name": "Python 3",
   "language": "python",
   "name": "python3"
  },
  "language_info": {
   "codemirror_mode": {
    "name": "ipython",
    "version": 3
   },
   "file_extension": ".py",
   "mimetype": "text/x-python",
   "name": "python",
   "nbconvert_exporter": "python",
   "pygments_lexer": "ipython3",
   "version": "3.12.3"
  }
 },
 "nbformat": 4,
 "nbformat_minor": 2
}
