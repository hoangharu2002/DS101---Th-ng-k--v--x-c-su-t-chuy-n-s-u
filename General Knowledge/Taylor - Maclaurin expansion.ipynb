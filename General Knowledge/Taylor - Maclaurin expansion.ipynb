{
 "cells": [
  {
   "cell_type": "markdown",
   "metadata": {},
   "source": [
    "# Khai triển Taylor"
   ]
  },
  {
   "cell_type": "markdown",
   "metadata": {},
   "source": [
    "## Công thức lý thuyết khai triển Taylor"
   ]
  },
  {
   "cell_type": "markdown",
   "metadata": {},
   "source": [
    "$$\n",
    "f(x) = f(a) + f'(a)(x-a) + \\frac{f''(a)}{2!}(x-a)^2 + \\frac{f'''(a)}{3!}(x-a)^3 + \\dots + \\frac{f^{(n)}(a)}{n!}(x-a)^n + R_n\n",
    "$$\n"
   ]
  },
  {
   "cell_type": "markdown",
   "metadata": {},
   "source": [
    "Trong đó:\n",
    "- f(x): là hàm khai triển Taylor\n",
    "- a: là điểm được chọn để khai triển\n",
    "- f^{(n)}(a): đạo hàm bậc n tại a\n",
    "- R_n: phần dư bậc n, thể hiện sai số"
   ]
  },
  {
   "cell_type": "markdown",
   "metadata": {},
   "source": [
    "## Cài đặt khai triển taylor"
   ]
  },
  {
   "cell_type": "markdown",
   "metadata": {},
   "source": [
    "### Cách 1: Cài đặt thủ công bằng thư viện Sympy\n",
    "- Ưu điểm:\n",
    "    + Nhanh gọn, dễ cài đặt\n",
    "    + Áp dụng chung cho nhiều hàm\n",
    "- Nhược điểm:\n",
    "    + Chỉ có thể áp dụng cho những hàm được định nghĩa sẵn trong Sympy\n",
    "    + Các hàm tính toán phụ thuộc vào thư viện Sympy"
   ]
  },
  {
   "cell_type": "code",
   "execution_count": 14,
   "metadata": {},
   "outputs": [
    {
     "name": "stdout",
     "output_type": "stream",
     "text": [
      "2.716666666666667\n"
     ]
    }
   ],
   "source": [
    "import sympy as sp\n",
    "\n",
    "def taylor_series(func, var, a, n, /): # func phải là một hàm được định nghĩa sẵn trong sympy\n",
    "    taylor_expansion = 0\n",
    "    for i in range(n + 1):\n",
    "        derivative_at_a = sp.diff(func, var, i).subs(var, a)    # Hàm diff() để tính đạo hàm\n",
    "        term = (derivative_at_a / sp.factorial(i)) * (var - a)**i\n",
    "        taylor_expansion += term\n",
    "\n",
    "    return taylor_expansion\n",
    "\n",
    "x = sp.symbols('x')\n",
    "func = sp.exp(x)    # Biểu thức hoặc biến ký hiệu có thể tùy chỉnh\n",
    "a = 0\n",
    "n = 5\n",
    "\n",
    "taylor_expansion = taylor_series(func, x, a, n)   # Sử dụng hàm khai triển vừa định nghĩa\n",
    "taylor_value = taylor_expansion.subs(x, 1)\n",
    "print(float(taylor_value))\n"
   ]
  },
  {
   "cell_type": "markdown",
   "metadata": {},
   "source": [
    "### Cách 2: Cài đặt bằng hàm tích hợp trong Sympy\n",
    "- Giống như cách 1 nhưng không cần đi định nghĩa lại hàm"
   ]
  },
  {
   "cell_type": "code",
   "execution_count": 16,
   "metadata": {},
   "outputs": [
    {
     "name": "stdout",
     "output_type": "stream",
     "text": [
      "2.716666666666667\n"
     ]
    }
   ],
   "source": [
    "import sympy as sp\n",
    "\n",
    "x = sp.symbols('x')\n",
    "func = sp.exp(x)\n",
    "a = 0\n",
    "n = 6\n",
    "\n",
    "taylor_expansion = sp.series(func, x, a, n).removeO() # Sử dụng hàm khai triển có sẵn, removeO() để loại bỏ phần dư\n",
    "print(float(taylor_expansion.subs(x, 1)))"
   ]
  },
  {
   "cell_type": "markdown",
   "metadata": {},
   "source": [
    "# Ứng dụng của khai triển Taylor"
   ]
  },
  {
   "cell_type": "markdown",
   "metadata": {},
   "source": [
    "Một số ứng dụng của khai triển Taylor:\n",
    "- Đơn giản hóa việc tính toán các hàm phức tạp\n",
    "- Tối ưu hiệu năng tính toán\n",
    "- Giải phương trình vi phân\n",
    "- Phân tích lỗi và độ chính xác\n",
    "- Xây dựng các thuật toán tối ưu hóa\n",
    "- Lập trình game và mô phỏng\n",
    "- Mô phỏng thời gian thực\n",
    "- Khoa học dữ liệu và trí tuệ nhân tạo  \n",
    "..."
   ]
  }
 ],
 "metadata": {
  "kernelspec": {
   "display_name": "Python 3",
   "language": "python",
   "name": "python3"
  },
  "language_info": {
   "codemirror_mode": {
    "name": "ipython",
    "version": 3
   },
   "file_extension": ".py",
   "mimetype": "text/x-python",
   "name": "python",
   "nbconvert_exporter": "python",
   "pygments_lexer": "ipython3",
   "version": "3.12.3"
  }
 },
 "nbformat": 4,
 "nbformat_minor": 2
}
